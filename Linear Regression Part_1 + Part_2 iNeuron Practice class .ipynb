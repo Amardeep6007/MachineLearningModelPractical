{
 "cells": [
  {
   "cell_type": "code",
   "execution_count": 1,
   "id": "a77e2cc7",
   "metadata": {},
   "outputs": [],
   "source": [
    "import pandas as pd\n",
    "import matplotlib.pyplot as plt\n",
    "from pandas_profiling import ProfileReport\n",
    "import numpy as np"
   ]
  },
  {
   "cell_type": "code",
   "execution_count": 9,
   "id": "07d0f44e",
   "metadata": {},
   "outputs": [
    {
     "data": {
      "text/html": [
       "<div>\n",
       "<style scoped>\n",
       "    .dataframe tbody tr th:only-of-type {\n",
       "        vertical-align: middle;\n",
       "    }\n",
       "\n",
       "    .dataframe tbody tr th {\n",
       "        vertical-align: top;\n",
       "    }\n",
       "\n",
       "    .dataframe thead th {\n",
       "        text-align: right;\n",
       "    }\n",
       "</style>\n",
       "<table border=\"1\" class=\"dataframe\">\n",
       "  <thead>\n",
       "    <tr style=\"text-align: right;\">\n",
       "      <th></th>\n",
       "      <th>Unnamed: 0</th>\n",
       "      <th>TV</th>\n",
       "      <th>radio</th>\n",
       "      <th>newspaper</th>\n",
       "      <th>sales</th>\n",
       "    </tr>\n",
       "  </thead>\n",
       "  <tbody>\n",
       "    <tr>\n",
       "      <th>195</th>\n",
       "      <td>196</td>\n",
       "      <td>38.2</td>\n",
       "      <td>3.7</td>\n",
       "      <td>13.8</td>\n",
       "      <td>7.6</td>\n",
       "    </tr>\n",
       "    <tr>\n",
       "      <th>196</th>\n",
       "      <td>197</td>\n",
       "      <td>94.2</td>\n",
       "      <td>4.9</td>\n",
       "      <td>8.1</td>\n",
       "      <td>9.7</td>\n",
       "    </tr>\n",
       "    <tr>\n",
       "      <th>197</th>\n",
       "      <td>198</td>\n",
       "      <td>177.0</td>\n",
       "      <td>9.3</td>\n",
       "      <td>6.4</td>\n",
       "      <td>12.8</td>\n",
       "    </tr>\n",
       "    <tr>\n",
       "      <th>198</th>\n",
       "      <td>199</td>\n",
       "      <td>283.6</td>\n",
       "      <td>42.0</td>\n",
       "      <td>66.2</td>\n",
       "      <td>25.5</td>\n",
       "    </tr>\n",
       "    <tr>\n",
       "      <th>199</th>\n",
       "      <td>200</td>\n",
       "      <td>232.1</td>\n",
       "      <td>8.6</td>\n",
       "      <td>8.7</td>\n",
       "      <td>13.4</td>\n",
       "    </tr>\n",
       "  </tbody>\n",
       "</table>\n",
       "</div>"
      ],
      "text/plain": [
       "     Unnamed: 0     TV  radio  newspaper  sales\n",
       "195         196   38.2    3.7       13.8    7.6\n",
       "196         197   94.2    4.9        8.1    9.7\n",
       "197         198  177.0    9.3        6.4   12.8\n",
       "198         199  283.6   42.0       66.2   25.5\n",
       "199         200  232.1    8.6        8.7   13.4"
      ]
     },
     "execution_count": 9,
     "metadata": {},
     "output_type": "execute_result"
    }
   ],
   "source": [
    "df = pd.read_csv('Advertising.csv')\n",
    "df.tail()"
   ]
  },
  {
   "cell_type": "markdown",
   "id": "a91c456c",
   "metadata": {},
   "source": [
    "Problem statement \n",
    "1. build a modal that will predict the sales when the TV , radio and Newspaper advertisment is given in the dataset\n",
    "2. if we are investing in TV ad or radio ad or newspaper then which mode of advertisment will be more effective\n",
    "3. if there is relation between the TV ad, radio ad, and newspaper ad then show the relation between them(i.e linear relation or non relation)\n",
    "\n",
    "Finally build the modal and do the deployment so that prediction can be made \n",
    "\n",
    "Also check the all the requirements for the Linear Regression"
   ]
  },
  {
   "cell_type": "markdown",
   "id": "0a5f34c7",
   "metadata": {},
   "source": [
    "### At first we are looking for the statistic for the given data set"
   ]
  },
  {
   "cell_type": "markdown",
   "id": "53ca278d",
   "metadata": {},
   "source": [
    "Here if we call the pandas profiling then it'll generate almost all the required statistics that we want to observe."
   ]
  },
  {
   "cell_type": "code",
   "execution_count": 7,
   "id": "dc7704c6",
   "metadata": {},
   "outputs": [],
   "source": [
    "pf = ProfileReport(df)"
   ]
  },
  {
   "cell_type": "markdown",
   "id": "36c81d58",
   "metadata": {},
   "source": [
    "in order to see the above result in more interactive way then we use .to_widgets() function"
   ]
  },
  {
   "cell_type": "code",
   "execution_count": 8,
   "id": "f553ba42",
   "metadata": {},
   "outputs": [
    {
     "data": {
      "application/vnd.jupyter.widget-view+json": {
       "model_id": "6afed55328b941a0a922b649b595538a",
       "version_major": 2,
       "version_minor": 0
      },
      "text/plain": [
       "Summarize dataset:   0%|          | 0/5 [00:00<?, ?it/s]"
      ]
     },
     "metadata": {},
     "output_type": "display_data"
    },
    {
     "data": {
      "application/vnd.jupyter.widget-view+json": {
       "model_id": "ded1f06df9864e5589656df493ca69ef",
       "version_major": 2,
       "version_minor": 0
      },
      "text/plain": [
       "Generate report structure:   0%|          | 0/1 [00:00<?, ?it/s]"
      ]
     },
     "metadata": {},
     "output_type": "display_data"
    },
    {
     "data": {
      "application/vnd.jupyter.widget-view+json": {
       "model_id": "",
       "version_major": 2,
       "version_minor": 0
      },
      "text/plain": [
       "Render widgets:   0%|          | 0/1 [00:00<?, ?it/s]"
      ]
     },
     "metadata": {},
     "output_type": "display_data"
    },
    {
     "data": {
      "application/vnd.jupyter.widget-view+json": {
       "model_id": "08157c6771304e46b882b93650270a3a",
       "version_major": 2,
       "version_minor": 0
      },
      "text/plain": [
       "VBox(children=(Tab(children=(Tab(children=(GridBox(children=(VBox(children=(GridspecLayout(children=(HTML(valu…"
      ]
     },
     "metadata": {},
     "output_type": "display_data"
    }
   ],
   "source": [
    "pf.to_widgets()"
   ]
  },
  {
   "cell_type": "markdown",
   "id": "68eae81b",
   "metadata": {},
   "source": [
    "Observation from the above report\n",
    "1. check Alerts tab to know the feature is corelated to each other\n",
    "2. in the variable tab, we can checck the details for each features mentioned. In a toggle detail option we can check the report of eahc feature in a more detailed way.\n",
    "3. in the interaction tab, we can how one feature is corelated with the other feature. \n",
    "3.a here Tv with sales is linearly related i.e if we are going to increase the TV ad cost then sales will going to be increased.\n",
    "3.b Incase of radio with sales there is linear relation\n",
    "3.c incase of newspaper with sales there in no linear realtion been observed because the data points are scattered.\n",
    "4. Now check the multicollinearity(i.e realtion among the dependent variable itself).\n",
    "4.a There is no multicollinearity between tv and radio as the data points are shows random points\n",
    "4.b There is no multicollinearity between tv and newspaper as the data points are shows random points\n",
    "\n",
    "How to deal with multicollinear data?\n",
    "We need drop such data because if we train our modal then in that case model will try to find out the relation among the feature itself. instead the modal needs to find the relation between the feature and the label(i.e x and y)\n"
   ]
  },
  {
   "cell_type": "code",
   "execution_count": 10,
   "id": "016a76ac",
   "metadata": {},
   "outputs": [
    {
     "data": {
      "application/vnd.jupyter.widget-view+json": {
       "model_id": "1eaee4515a644798a9c3f6395035c2b0",
       "version_major": 2,
       "version_minor": 0
      },
      "text/plain": [
       "Render HTML:   0%|          | 0/1 [00:00<?, ?it/s]"
      ]
     },
     "metadata": {},
     "output_type": "display_data"
    },
    {
     "data": {
      "application/vnd.jupyter.widget-view+json": {
       "model_id": "167de8084d204adfba2e018c511a4009",
       "version_major": 2,
       "version_minor": 0
      },
      "text/plain": [
       "Export report to file:   0%|          | 0/1 [00:00<?, ?it/s]"
      ]
     },
     "metadata": {},
     "output_type": "display_data"
    }
   ],
   "source": [
    "#save the report \n",
    "pf.to_file('Advertising_Report.html')"
   ]
  },
  {
   "cell_type": "code",
   "execution_count": 11,
   "id": "8bb82b3a",
   "metadata": {},
   "outputs": [],
   "source": [
    "# here we are trying to build a modal between tv and sales\n",
    "#i.e y= sales (because sales is the dependent variable and because of the changes in independent variable (tv ad) the sales is going to be affected or changed)\n",
    "# and, x= tv advertisment cost\n",
    "# we know the relation y= mx + c\n",
    "x= df[[\"TV\"]]\n",
    "y= df[[\"sales\"]]\n"
   ]
  },
  {
   "cell_type": "code",
   "execution_count": 14,
   "id": "52e83aee",
   "metadata": {},
   "outputs": [
    {
     "data": {
      "text/plain": [
       "LinearRegression()"
      ]
     },
     "execution_count": 14,
     "metadata": {},
     "output_type": "execute_result"
    }
   ],
   "source": [
    "# creating a  linear regression modal using sckit learn library\n",
    "from sklearn.linear_model import LinearRegression\n",
    "linear = LinearRegression() # creating object of the linear regression class\n",
    "linear.fit(x,y) # inside this LinearRegression() , there are multiple function written . Here i am calling, fit() function so that I can do the training of the model(inside the fit() method complete training procedure is written down )\n",
    "# whenever we write fit() method then it mean that our model is ready i.e final value of m and c is now calculated by the python\n"
   ]
  },
  {
   "cell_type": "code",
   "execution_count": 15,
   "id": "80175281",
   "metadata": {},
   "outputs": [
    {
     "data": {
      "text/plain": [
       "array([7.03259355])"
      ]
     },
     "execution_count": 15,
     "metadata": {},
     "output_type": "execute_result"
    }
   ],
   "source": [
    "# showing the value of c\n",
    "linear.intercept_"
   ]
  },
  {
   "cell_type": "code",
   "execution_count": 16,
   "id": "d93a93f3",
   "metadata": {},
   "outputs": [
    {
     "data": {
      "text/plain": [
       "array([[0.04753664]])"
      ]
     },
     "execution_count": 16,
     "metadata": {},
     "output_type": "execute_result"
    }
   ],
   "source": [
    "#showing the value of m\n",
    "linear.coef_"
   ]
  },
  {
   "cell_type": "markdown",
   "id": "e0c20d2f",
   "metadata": {},
   "source": [
    "### hence the equation can now be seen as ; \n",
    "### y=mx+c\n",
    "### sales = 0.0475(TV) + 7.03259\n",
    "Now if we put the TV ad cost then we can predict the sales generated due to the TV advertisment\n"
   ]
  },
  {
   "cell_type": "code",
   "execution_count": 19,
   "id": "f0a2e004",
   "metadata": {},
   "outputs": [
    {
     "name": "stderr",
     "output_type": "stream",
     "text": [
      "E:\\anaconda3\\lib\\site-packages\\sklearn\\base.py:450: UserWarning: X does not have valid feature names, but LinearRegression was fitted with feature names\n",
      "  warnings.warn(\n"
     ]
    },
    {
     "data": {
      "text/plain": [
       "array([[9.17174237]])"
      ]
     },
     "execution_count": 19,
     "metadata": {},
     "output_type": "execute_result"
    }
   ],
   "source": [
    "#  now predict the sales based on the model that we have created by passing the Tv ad cost values(i.e in y=mx+c where value of m and c is computed by creating the linear model we are passing the value of x so that y can be calculated)\n",
    "#here we are using the linear object to predict the sales\n",
    "linear.predict([[45]])"
   ]
  },
  {
   "cell_type": "markdown",
   "id": "58c22f9f",
   "metadata": {},
   "source": [
    "#### Therefore , if the Tv ad cost is 45 dollar then predicted sales will be 9.17174 dollar "
   ]
  },
  {
   "cell_type": "code",
   "execution_count": 21,
   "id": "060b8831",
   "metadata": {},
   "outputs": [
    {
     "name": "stdout",
     "output_type": "stream",
     "text": [
      "[[7.22274011]]\n",
      "[[7.27027675]]\n",
      "[[7.31781339]]\n",
      "[[7.36535003]]\n",
      "[[11.26335455]]\n",
      "[[8.64883932]]\n",
      "[[9.17174237]]\n",
      "[[10.21754846]]\n",
      "[[8.12593628]]\n"
     ]
    },
    {
     "name": "stderr",
     "output_type": "stream",
     "text": [
      "E:\\anaconda3\\lib\\site-packages\\sklearn\\base.py:450: UserWarning: X does not have valid feature names, but LinearRegression was fitted with feature names\n",
      "  warnings.warn(\n",
      "E:\\anaconda3\\lib\\site-packages\\sklearn\\base.py:450: UserWarning: X does not have valid feature names, but LinearRegression was fitted with feature names\n",
      "  warnings.warn(\n",
      "E:\\anaconda3\\lib\\site-packages\\sklearn\\base.py:450: UserWarning: X does not have valid feature names, but LinearRegression was fitted with feature names\n",
      "  warnings.warn(\n",
      "E:\\anaconda3\\lib\\site-packages\\sklearn\\base.py:450: UserWarning: X does not have valid feature names, but LinearRegression was fitted with feature names\n",
      "  warnings.warn(\n",
      "E:\\anaconda3\\lib\\site-packages\\sklearn\\base.py:450: UserWarning: X does not have valid feature names, but LinearRegression was fitted with feature names\n",
      "  warnings.warn(\n",
      "E:\\anaconda3\\lib\\site-packages\\sklearn\\base.py:450: UserWarning: X does not have valid feature names, but LinearRegression was fitted with feature names\n",
      "  warnings.warn(\n",
      "E:\\anaconda3\\lib\\site-packages\\sklearn\\base.py:450: UserWarning: X does not have valid feature names, but LinearRegression was fitted with feature names\n",
      "  warnings.warn(\n",
      "E:\\anaconda3\\lib\\site-packages\\sklearn\\base.py:450: UserWarning: X does not have valid feature names, but LinearRegression was fitted with feature names\n",
      "  warnings.warn(\n",
      "E:\\anaconda3\\lib\\site-packages\\sklearn\\base.py:450: UserWarning: X does not have valid feature names, but LinearRegression was fitted with feature names\n",
      "  warnings.warn(\n"
     ]
    }
   ],
   "source": [
    "# passing multiple values of the Tv ad cost to find out the sales of the respective costs\n",
    "l = [4,5,6,7,89,34,45,67,23]\n",
    "for i in l :\n",
    "    print(linear.predict([[i]]))"
   ]
  },
  {
   "cell_type": "code",
   "execution_count": 23,
   "id": "92021af2",
   "metadata": {},
   "outputs": [
    {
     "name": "stderr",
     "output_type": "stream",
     "text": [
      "E:\\anaconda3\\lib\\site-packages\\sklearn\\base.py:450: UserWarning: X does not have valid feature names, but LinearRegression was fitted with feature names\n",
      "  warnings.warn(\n"
     ]
    },
    {
     "data": {
      "text/plain": [
       "array([[9.17174237]])"
      ]
     },
     "execution_count": 23,
     "metadata": {},
     "output_type": "execute_result"
    }
   ],
   "source": [
    "# here we are using model that we have saved using pickle to do prediction\n",
    "# now save the above model in the .sav format(.sav is simple byte code format)\n",
    "file_name = 'linear_reg.sav'\n",
    "pickle.dump(linear, open(file_name, \"wb\"))\n",
    "saved_model = pickle.load(open(file_name, 'rb'))\n",
    "saved_model.predict([[45]])"
   ]
  },
  {
   "cell_type": "code",
   "execution_count": 24,
   "id": "52ac5448",
   "metadata": {},
   "outputs": [
    {
     "data": {
      "text/plain": [
       "0.611875050850071"
      ]
     },
     "execution_count": 24,
     "metadata": {},
     "output_type": "execute_result"
    }
   ],
   "source": [
    "# finding out the accuracy of the model.\n",
    "linear.score(x,y)"
   ]
  },
  {
   "cell_type": "markdown",
   "id": "87de11ca",
   "metadata": {},
   "source": [
    "#### note : that in reality we never try to check the accuarcy with same dataset with which we have trained the model, instead we try to give the sepearate data set to find out the score \n"
   ]
  },
  {
   "cell_type": "markdown",
   "id": "3b378d1a",
   "metadata": {},
   "source": [
    "## From Here Part 2 of the iNeuron Lecture is getting started"
   ]
  },
  {
   "cell_type": "markdown",
   "id": "ef78e259",
   "metadata": {},
   "source": [
    "Here we are trying to create multi linear regression model (multi linear regression model says that when there are more than one feature is being involved (and one label data set involved) in the training of the model)\n"
   ]
  },
  {
   "cell_type": "markdown",
   "id": "20813d70",
   "metadata": {},
   "source": [
    "In the above scenario , we have taken only one single feature and one label and then created the model.\n",
    "Now we ll take multiple feature and then create the model \n",
    "\n"
   ]
  },
  {
   "cell_type": "code",
   "execution_count": 29,
   "id": "1fde0e4e",
   "metadata": {},
   "outputs": [],
   "source": [
    "data_x = df[['TV', 'radio', 'newspaper']] # 3 Feature selected \n",
    "data_y = df[['sales']] # 1 label selected "
   ]
  },
  {
   "cell_type": "code",
   "execution_count": 33,
   "id": "be5c7be4",
   "metadata": {},
   "outputs": [
    {
     "name": "stdout",
     "output_type": "stream",
     "text": [
      "value of c : [2.93888937]\n",
      "value of m : [[ 0.04576465  0.18853002 -0.00103749]]\n"
     ]
    }
   ],
   "source": [
    "linear_1 = LinearRegression() # calling the linear regression class \n",
    "linear_1.fit(data_x, data_y) # training the model\n",
    "print(\"value of c :\", linear_1.intercept_) \n",
    "print(\"value of m :\", linear_1.coef_)"
   ]
  },
  {
   "cell_type": "markdown",
   "id": "66964d4f",
   "metadata": {},
   "source": [
    "For the above different values of \"m\" we can interpret the equation as :\n",
    "\n",
    "    y = m1(TV) + m2(radio) + m3(newspaper) + c\n",
    "    \n",
    "    y= 0.045(TV) + 0.188(radio) - 0.001(newspaper) + 2.938\n",
    "    \n",
    "Therefore,  when the advertisment expense of TV or radio or newspaper is given we can find its impact on the sales or how much each advertisment type is contributing to the sales."
   ]
  },
  {
   "cell_type": "code",
   "execution_count": 34,
   "id": "b7859360",
   "metadata": {},
   "outputs": [
    {
     "data": {
      "text/plain": [
       "0.8972106381789522"
      ]
     },
     "execution_count": 34,
     "metadata": {},
     "output_type": "execute_result"
    }
   ],
   "source": [
    "#Now finding out the confindence score or the accuracy or the R square or the score \n",
    "linear_1.score(data_x, data_y)"
   ]
  },
  {
   "cell_type": "markdown",
   "id": "84a93eb9",
   "metadata": {},
   "source": [
    "Observation: When we are considering all the 3 feature then the confidence score is approx 89.72 %\n",
    "\n",
    "and when using only 1 column then the confidence score was approx 61.18 %\n",
    "\n",
    "Hence we can say that we here we need to consider all the column in order to increase the accuracy of the model.(Lets see whether this statement is still correct untill the further examination)"
   ]
  },
  {
   "cell_type": "code",
   "execution_count": 36,
   "id": "6a3fca12",
   "metadata": {},
   "outputs": [
    {
     "name": "stdout",
     "output_type": "stream",
     "text": [
      "0.8971942610828956\n"
     ]
    }
   ],
   "source": [
    "# Lets try to find out the confidence score when we are using 2 feature (here , TV and radio)\n",
    "data_x = df[['TV', 'radio']]\n",
    "data_y = df[['sales']]\n",
    "linear_2 = LinearRegression()\n",
    "linear_2.fit(data_x, data_y)\n",
    "print(linear_2.score(data_x, data_y))"
   ]
  },
  {
   "cell_type": "markdown",
   "id": "d109b280",
   "metadata": {},
   "source": [
    "Observation : with respect to tv and radio the confidence score of the model is approx 89.71 %\n",
    "\n",
    "Note: with respect to tv, radio, newspaper the score was 89.72%\n",
    " and with respect to tv, radio the score was 89.71%. We have not received much loss when we have excluded the newspaper feature. \n",
    " We can also conclude that newspaper is not participating that much in the confidence score. Hence it can said that we are not suppose to invest much in the Newspaper advertisment.\n",
    " \n",
    "Note: This is where Feature Selection comes into picture. Feature selection is selection of those feature with which we can build a model. Hence we do impact analysis of the features and then do Feature selection.\n",
    "\n",
    "Note: one of the way for Feature selection is by comparing the R square.(R square is not the reliable technique of the Feature Selection)\n",
    "\n",
    "Here in the above scenario we are comparing the score which is nothing but the R square only.\n",
    "\n",
    "Note: the other way with which we can do Feature selection is by comparing the Adjusted R square of the individual features."
   ]
  },
  {
   "cell_type": "code",
   "execution_count": 39,
   "id": "f2b9b398",
   "metadata": {},
   "outputs": [
    {
     "data": {
      "text/html": [
       "<table class=\"simpletable\">\n",
       "<caption>OLS Regression Results</caption>\n",
       "<tr>\n",
       "  <th>Dep. Variable:</th>          <td>sales</td>      <th>  R-squared:         </th> <td>   0.612</td>\n",
       "</tr>\n",
       "<tr>\n",
       "  <th>Model:</th>                   <td>OLS</td>       <th>  Adj. R-squared:    </th> <td>   0.610</td>\n",
       "</tr>\n",
       "<tr>\n",
       "  <th>Method:</th>             <td>Least Squares</td>  <th>  F-statistic:       </th> <td>   312.1</td>\n",
       "</tr>\n",
       "<tr>\n",
       "  <th>Date:</th>             <td>Fri, 22 Jul 2022</td> <th>  Prob (F-statistic):</th> <td>1.47e-42</td>\n",
       "</tr>\n",
       "<tr>\n",
       "  <th>Time:</th>                 <td>23:20:54</td>     <th>  Log-Likelihood:    </th> <td> -519.05</td>\n",
       "</tr>\n",
       "<tr>\n",
       "  <th>No. Observations:</th>      <td>   200</td>      <th>  AIC:               </th> <td>   1042.</td>\n",
       "</tr>\n",
       "<tr>\n",
       "  <th>Df Residuals:</th>          <td>   198</td>      <th>  BIC:               </th> <td>   1049.</td>\n",
       "</tr>\n",
       "<tr>\n",
       "  <th>Df Model:</th>              <td>     1</td>      <th>                     </th>     <td> </td>   \n",
       "</tr>\n",
       "<tr>\n",
       "  <th>Covariance Type:</th>      <td>nonrobust</td>    <th>                     </th>     <td> </td>   \n",
       "</tr>\n",
       "</table>\n",
       "<table class=\"simpletable\">\n",
       "<tr>\n",
       "      <td></td>         <th>coef</th>     <th>std err</th>      <th>t</th>      <th>P>|t|</th>  <th>[0.025</th>    <th>0.975]</th>  \n",
       "</tr>\n",
       "<tr>\n",
       "  <th>Intercept</th> <td>    7.0326</td> <td>    0.458</td> <td>   15.360</td> <td> 0.000</td> <td>    6.130</td> <td>    7.935</td>\n",
       "</tr>\n",
       "<tr>\n",
       "  <th>TV</th>        <td>    0.0475</td> <td>    0.003</td> <td>   17.668</td> <td> 0.000</td> <td>    0.042</td> <td>    0.053</td>\n",
       "</tr>\n",
       "</table>\n",
       "<table class=\"simpletable\">\n",
       "<tr>\n",
       "  <th>Omnibus:</th>       <td> 0.531</td> <th>  Durbin-Watson:     </th> <td>   1.935</td>\n",
       "</tr>\n",
       "<tr>\n",
       "  <th>Prob(Omnibus):</th> <td> 0.767</td> <th>  Jarque-Bera (JB):  </th> <td>   0.669</td>\n",
       "</tr>\n",
       "<tr>\n",
       "  <th>Skew:</th>          <td>-0.089</td> <th>  Prob(JB):          </th> <td>   0.716</td>\n",
       "</tr>\n",
       "<tr>\n",
       "  <th>Kurtosis:</th>      <td> 2.779</td> <th>  Cond. No.          </th> <td>    338.</td>\n",
       "</tr>\n",
       "</table><br/><br/>Notes:<br/>[1] Standard Errors assume that the covariance matrix of the errors is correctly specified."
      ],
      "text/plain": [
       "<class 'statsmodels.iolib.summary.Summary'>\n",
       "\"\"\"\n",
       "                            OLS Regression Results                            \n",
       "==============================================================================\n",
       "Dep. Variable:                  sales   R-squared:                       0.612\n",
       "Model:                            OLS   Adj. R-squared:                  0.610\n",
       "Method:                 Least Squares   F-statistic:                     312.1\n",
       "Date:                Fri, 22 Jul 2022   Prob (F-statistic):           1.47e-42\n",
       "Time:                        23:20:54   Log-Likelihood:                -519.05\n",
       "No. Observations:                 200   AIC:                             1042.\n",
       "Df Residuals:                     198   BIC:                             1049.\n",
       "Df Model:                           1                                         \n",
       "Covariance Type:            nonrobust                                         \n",
       "==============================================================================\n",
       "                 coef    std err          t      P>|t|      [0.025      0.975]\n",
       "------------------------------------------------------------------------------\n",
       "Intercept      7.0326      0.458     15.360      0.000       6.130       7.935\n",
       "TV             0.0475      0.003     17.668      0.000       0.042       0.053\n",
       "==============================================================================\n",
       "Omnibus:                        0.531   Durbin-Watson:                   1.935\n",
       "Prob(Omnibus):                  0.767   Jarque-Bera (JB):                0.669\n",
       "Skew:                          -0.089   Prob(JB):                        0.716\n",
       "Kurtosis:                       2.779   Cond. No.                         338.\n",
       "==============================================================================\n",
       "\n",
       "Notes:\n",
       "[1] Standard Errors assume that the covariance matrix of the errors is correctly specified.\n",
       "\"\"\""
      ]
     },
     "execution_count": 39,
     "metadata": {},
     "output_type": "execute_result"
    }
   ],
   "source": [
    "#Here we are using another approach of statistical modeling. We ll use Scikit learn library to build this model\n",
    "import statsmodels.formula.api as smf\n",
    "lm = smf.ols(formula = 'sales ~ TV ', data= df).fit()\n",
    "lm.summary()"
   ]
  },
  {
   "cell_type": "markdown",
   "id": "51235881",
   "metadata": {},
   "source": [
    "Note : There are 2 ways of nuilding Linear Regression model\n",
    "    \n",
    "    Method1 : by using Scikit learn library\n",
    "                \n",
    "    Method2 : by using ols approach(ordinary least squared approach)\n",
    "\n",
    "This is just the way to do impact analysis of the model that we trying to build or to decide which feature to choose to build a model"
   ]
  },
  {
   "cell_type": "code",
   "execution_count": 41,
   "id": "edc6ee50",
   "metadata": {},
   "outputs": [
    {
     "data": {
      "text/html": [
       "<table class=\"simpletable\">\n",
       "<caption>OLS Regression Results</caption>\n",
       "<tr>\n",
       "  <th>Dep. Variable:</th>          <td>sales</td>      <th>  R-squared:         </th> <td>   0.897</td>\n",
       "</tr>\n",
       "<tr>\n",
       "  <th>Model:</th>                   <td>OLS</td>       <th>  Adj. R-squared:    </th> <td>   0.896</td>\n",
       "</tr>\n",
       "<tr>\n",
       "  <th>Method:</th>             <td>Least Squares</td>  <th>  F-statistic:       </th> <td>   859.6</td>\n",
       "</tr>\n",
       "<tr>\n",
       "  <th>Date:</th>             <td>Fri, 22 Jul 2022</td> <th>  Prob (F-statistic):</th> <td>4.83e-98</td>\n",
       "</tr>\n",
       "<tr>\n",
       "  <th>Time:</th>                 <td>23:26:29</td>     <th>  Log-Likelihood:    </th> <td> -386.20</td>\n",
       "</tr>\n",
       "<tr>\n",
       "  <th>No. Observations:</th>      <td>   200</td>      <th>  AIC:               </th> <td>   778.4</td>\n",
       "</tr>\n",
       "<tr>\n",
       "  <th>Df Residuals:</th>          <td>   197</td>      <th>  BIC:               </th> <td>   788.3</td>\n",
       "</tr>\n",
       "<tr>\n",
       "  <th>Df Model:</th>              <td>     2</td>      <th>                     </th>     <td> </td>   \n",
       "</tr>\n",
       "<tr>\n",
       "  <th>Covariance Type:</th>      <td>nonrobust</td>    <th>                     </th>     <td> </td>   \n",
       "</tr>\n",
       "</table>\n",
       "<table class=\"simpletable\">\n",
       "<tr>\n",
       "      <td></td>         <th>coef</th>     <th>std err</th>      <th>t</th>      <th>P>|t|</th>  <th>[0.025</th>    <th>0.975]</th>  \n",
       "</tr>\n",
       "<tr>\n",
       "  <th>Intercept</th> <td>    2.9211</td> <td>    0.294</td> <td>    9.919</td> <td> 0.000</td> <td>    2.340</td> <td>    3.502</td>\n",
       "</tr>\n",
       "<tr>\n",
       "  <th>TV</th>        <td>    0.0458</td> <td>    0.001</td> <td>   32.909</td> <td> 0.000</td> <td>    0.043</td> <td>    0.048</td>\n",
       "</tr>\n",
       "<tr>\n",
       "  <th>radio</th>     <td>    0.1880</td> <td>    0.008</td> <td>   23.382</td> <td> 0.000</td> <td>    0.172</td> <td>    0.204</td>\n",
       "</tr>\n",
       "</table>\n",
       "<table class=\"simpletable\">\n",
       "<tr>\n",
       "  <th>Omnibus:</th>       <td>60.022</td> <th>  Durbin-Watson:     </th> <td>   2.081</td>\n",
       "</tr>\n",
       "<tr>\n",
       "  <th>Prob(Omnibus):</th> <td> 0.000</td> <th>  Jarque-Bera (JB):  </th> <td> 148.679</td>\n",
       "</tr>\n",
       "<tr>\n",
       "  <th>Skew:</th>          <td>-1.323</td> <th>  Prob(JB):          </th> <td>5.19e-33</td>\n",
       "</tr>\n",
       "<tr>\n",
       "  <th>Kurtosis:</th>      <td> 6.292</td> <th>  Cond. No.          </th> <td>    425.</td>\n",
       "</tr>\n",
       "</table><br/><br/>Notes:<br/>[1] Standard Errors assume that the covariance matrix of the errors is correctly specified."
      ],
      "text/plain": [
       "<class 'statsmodels.iolib.summary.Summary'>\n",
       "\"\"\"\n",
       "                            OLS Regression Results                            \n",
       "==============================================================================\n",
       "Dep. Variable:                  sales   R-squared:                       0.897\n",
       "Model:                            OLS   Adj. R-squared:                  0.896\n",
       "Method:                 Least Squares   F-statistic:                     859.6\n",
       "Date:                Fri, 22 Jul 2022   Prob (F-statistic):           4.83e-98\n",
       "Time:                        23:26:29   Log-Likelihood:                -386.20\n",
       "No. Observations:                 200   AIC:                             778.4\n",
       "Df Residuals:                     197   BIC:                             788.3\n",
       "Df Model:                           2                                         \n",
       "Covariance Type:            nonrobust                                         \n",
       "==============================================================================\n",
       "                 coef    std err          t      P>|t|      [0.025      0.975]\n",
       "------------------------------------------------------------------------------\n",
       "Intercept      2.9211      0.294      9.919      0.000       2.340       3.502\n",
       "TV             0.0458      0.001     32.909      0.000       0.043       0.048\n",
       "radio          0.1880      0.008     23.382      0.000       0.172       0.204\n",
       "==============================================================================\n",
       "Omnibus:                       60.022   Durbin-Watson:                   2.081\n",
       "Prob(Omnibus):                  0.000   Jarque-Bera (JB):              148.679\n",
       "Skew:                          -1.323   Prob(JB):                     5.19e-33\n",
       "Kurtosis:                       6.292   Cond. No.                         425.\n",
       "==============================================================================\n",
       "\n",
       "Notes:\n",
       "[1] Standard Errors assume that the covariance matrix of the errors is correctly specified.\n",
       "\"\"\""
      ]
     },
     "execution_count": 41,
     "metadata": {},
     "output_type": "execute_result"
    }
   ],
   "source": [
    "# using TV + radio for impact analysis\n",
    "lm = smf.ols(formula = 'sales ~ TV + radio ', data= df).fit()\n",
    "lm.summary()"
   ]
  },
  {
   "cell_type": "code",
   "execution_count": 43,
   "id": "f4a65e38",
   "metadata": {},
   "outputs": [
    {
     "data": {
      "text/html": [
       "<table class=\"simpletable\">\n",
       "<caption>OLS Regression Results</caption>\n",
       "<tr>\n",
       "  <th>Dep. Variable:</th>          <td>sales</td>      <th>  R-squared:         </th> <td>   0.897</td>\n",
       "</tr>\n",
       "<tr>\n",
       "  <th>Model:</th>                   <td>OLS</td>       <th>  Adj. R-squared:    </th> <td>   0.896</td>\n",
       "</tr>\n",
       "<tr>\n",
       "  <th>Method:</th>             <td>Least Squares</td>  <th>  F-statistic:       </th> <td>   570.3</td>\n",
       "</tr>\n",
       "<tr>\n",
       "  <th>Date:</th>             <td>Fri, 22 Jul 2022</td> <th>  Prob (F-statistic):</th> <td>1.58e-96</td>\n",
       "</tr>\n",
       "<tr>\n",
       "  <th>Time:</th>                 <td>23:27:32</td>     <th>  Log-Likelihood:    </th> <td> -386.18</td>\n",
       "</tr>\n",
       "<tr>\n",
       "  <th>No. Observations:</th>      <td>   200</td>      <th>  AIC:               </th> <td>   780.4</td>\n",
       "</tr>\n",
       "<tr>\n",
       "  <th>Df Residuals:</th>          <td>   196</td>      <th>  BIC:               </th> <td>   793.6</td>\n",
       "</tr>\n",
       "<tr>\n",
       "  <th>Df Model:</th>              <td>     3</td>      <th>                     </th>     <td> </td>   \n",
       "</tr>\n",
       "<tr>\n",
       "  <th>Covariance Type:</th>      <td>nonrobust</td>    <th>                     </th>     <td> </td>   \n",
       "</tr>\n",
       "</table>\n",
       "<table class=\"simpletable\">\n",
       "<tr>\n",
       "      <td></td>         <th>coef</th>     <th>std err</th>      <th>t</th>      <th>P>|t|</th>  <th>[0.025</th>    <th>0.975]</th>  \n",
       "</tr>\n",
       "<tr>\n",
       "  <th>Intercept</th> <td>    2.9389</td> <td>    0.312</td> <td>    9.422</td> <td> 0.000</td> <td>    2.324</td> <td>    3.554</td>\n",
       "</tr>\n",
       "<tr>\n",
       "  <th>TV</th>        <td>    0.0458</td> <td>    0.001</td> <td>   32.809</td> <td> 0.000</td> <td>    0.043</td> <td>    0.049</td>\n",
       "</tr>\n",
       "<tr>\n",
       "  <th>radio</th>     <td>    0.1885</td> <td>    0.009</td> <td>   21.893</td> <td> 0.000</td> <td>    0.172</td> <td>    0.206</td>\n",
       "</tr>\n",
       "<tr>\n",
       "  <th>newspaper</th> <td>   -0.0010</td> <td>    0.006</td> <td>   -0.177</td> <td> 0.860</td> <td>   -0.013</td> <td>    0.011</td>\n",
       "</tr>\n",
       "</table>\n",
       "<table class=\"simpletable\">\n",
       "<tr>\n",
       "  <th>Omnibus:</th>       <td>60.414</td> <th>  Durbin-Watson:     </th> <td>   2.084</td>\n",
       "</tr>\n",
       "<tr>\n",
       "  <th>Prob(Omnibus):</th> <td> 0.000</td> <th>  Jarque-Bera (JB):  </th> <td> 151.241</td>\n",
       "</tr>\n",
       "<tr>\n",
       "  <th>Skew:</th>          <td>-1.327</td> <th>  Prob(JB):          </th> <td>1.44e-33</td>\n",
       "</tr>\n",
       "<tr>\n",
       "  <th>Kurtosis:</th>      <td> 6.332</td> <th>  Cond. No.          </th> <td>    454.</td>\n",
       "</tr>\n",
       "</table><br/><br/>Notes:<br/>[1] Standard Errors assume that the covariance matrix of the errors is correctly specified."
      ],
      "text/plain": [
       "<class 'statsmodels.iolib.summary.Summary'>\n",
       "\"\"\"\n",
       "                            OLS Regression Results                            \n",
       "==============================================================================\n",
       "Dep. Variable:                  sales   R-squared:                       0.897\n",
       "Model:                            OLS   Adj. R-squared:                  0.896\n",
       "Method:                 Least Squares   F-statistic:                     570.3\n",
       "Date:                Fri, 22 Jul 2022   Prob (F-statistic):           1.58e-96\n",
       "Time:                        23:27:32   Log-Likelihood:                -386.18\n",
       "No. Observations:                 200   AIC:                             780.4\n",
       "Df Residuals:                     196   BIC:                             793.6\n",
       "Df Model:                           3                                         \n",
       "Covariance Type:            nonrobust                                         \n",
       "==============================================================================\n",
       "                 coef    std err          t      P>|t|      [0.025      0.975]\n",
       "------------------------------------------------------------------------------\n",
       "Intercept      2.9389      0.312      9.422      0.000       2.324       3.554\n",
       "TV             0.0458      0.001     32.809      0.000       0.043       0.049\n",
       "radio          0.1885      0.009     21.893      0.000       0.172       0.206\n",
       "newspaper     -0.0010      0.006     -0.177      0.860      -0.013       0.011\n",
       "==============================================================================\n",
       "Omnibus:                       60.414   Durbin-Watson:                   2.084\n",
       "Prob(Omnibus):                  0.000   Jarque-Bera (JB):              151.241\n",
       "Skew:                          -1.327   Prob(JB):                     1.44e-33\n",
       "Kurtosis:                       6.332   Cond. No.                         454.\n",
       "==============================================================================\n",
       "\n",
       "Notes:\n",
       "[1] Standard Errors assume that the covariance matrix of the errors is correctly specified.\n",
       "\"\"\""
      ]
     },
     "execution_count": 43,
     "metadata": {},
     "output_type": "execute_result"
    }
   ],
   "source": [
    "# using TV + radio + newspaper for impact analysis\n",
    "lm = smf.ols(formula = 'sales ~ TV + radio + newspaper ', data= df).fit()\n",
    "lm.summary()"
   ]
  },
  {
   "cell_type": "markdown",
   "id": "28405787",
   "metadata": {},
   "source": [
    "Note : the difference between Scikit Learn model and the statistical model(ols model) is that statistical model is not going to give the final version of the model which we can productionize. S\n",
    "    statistical model(ols model) is just going to provide the summary and from that summary we just going to do our analysis and gain some insight for Feature selection"
   ]
  },
  {
   "cell_type": "markdown",
   "id": "f95a7a57",
   "metadata": {},
   "source": [
    "Observation with respect to the above 3 steps(i.e 1:- Tv and sales \n",
    "                                             2: Tv+radio and sales\n",
    "                                             3: Tv+radio+newspaper and sales)\n",
    "Now we are comparing the P values of all these to do impact analysis.\n",
    "\n",
    "For Tv and Sales: p values is 0.0\n",
    "\n",
    "For Tv + radio and sales: 0.0\n",
    "\n",
    "For Tv + radio + newspaper: here for newspaper p value is 0.86 which means that 86 % chance is that null hypothesis is true and 14% chance is that alternate hypothesis is true.\n",
    "                            i.e newspaper has only 14% impact on the sales which is negligible impact and hence it can be decided that newspaper Feature can dropped before trainig the model to decrease the performance and complexity of the model. \n",
    "                            \n",
    "(p values means the probablity of null hypothesis being true.\n",
    "Here, null hypothesis = newspaper ad has no impact on the sales which inturn says that they both are same and equal.\n",
    "      Alternate hypothesis = newspaper ad has impact on the sales )"
   ]
  },
  {
   "cell_type": "code",
   "execution_count": 45,
   "id": "49b39c8c",
   "metadata": {},
   "outputs": [],
   "source": [
    "# The above is the Feature Selection procedure "
   ]
  },
  {
   "cell_type": "code",
   "execution_count": null,
   "id": "783ab45f",
   "metadata": {},
   "outputs": [],
   "source": []
  }
 ],
 "metadata": {
  "kernelspec": {
   "display_name": "Python 3 (ipykernel)",
   "language": "python",
   "name": "python3"
  },
  "language_info": {
   "codemirror_mode": {
    "name": "ipython",
    "version": 3
   },
   "file_extension": ".py",
   "mimetype": "text/x-python",
   "name": "python",
   "nbconvert_exporter": "python",
   "pygments_lexer": "ipython3",
   "version": "3.9.12"
  }
 },
 "nbformat": 4,
 "nbformat_minor": 5
}
